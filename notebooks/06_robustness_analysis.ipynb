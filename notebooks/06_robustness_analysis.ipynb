{
 "cells": [
  {
   "cell_type": "markdown",
   "metadata": {},
   "source": [
    "# Robustness Analysis and Benchmarking\n",
    "\n",
    "This notebook covers:\n",
    "- Filter function analysis\n",
    "- Randomized benchmarking\n",
    "- Sensitivity and worst-case analysis\n",
    "- Noise spectroscopy"
   ]
  },
  {
   "cell_type": "code",
   "execution_count": null,
   "metadata": {},
   "outputs": [],
   "source": [
    "import sys\n",
    "sys.path.insert(0, '..')\n",
    "import numpy as np\n",
    "import matplotlib.pyplot as plt\n",
    "import qutip as qt\n",
    "\n",
    "from src.optimization.filter_functions import (\n",
    "    compute_filter_function,\n",
    "    PowerSpectralDensity,\n",
    "    compute_infidelity,\n",
    "    visualize_filter_function\n",
    ")\n",
    "from src.optimization.benchmarking import (\n",
    "    RBExperiment,\n",
    "    generate_rb_sequence,\n",
    "    run_interleaved_rb\n",
    ")\n",
    "from src.optimization.robustness import (\n",
    "    compute_fidelity_robustness,\n",
    "    sensitivity_analysis,\n",
    "    compute_fisher_information\n",
    ")\n",
    "\n",
    "%matplotlib inline\n",
    "plt.rcParams['figure.figsize'] = (12, 8)"
   ]
  },
  {
   "cell_type": "markdown",
   "metadata": {},
   "source": [
    "## 1. Filter Function Analysis\n",
    "\n",
    "Filter functions quantify pulse sensitivity to noise at different frequencies."
   ]
  },
  {
   "cell_type": "code",
   "execution_count": null,
   "metadata": {},
   "outputs": [],
   "source": [
    "# Create example pulse\n",
    "times = np.linspace(0, 10, 100)\n",
    "pulse = np.exp(-(times-5)**2/2) * np.sin(2*np.pi*times/10)\n",
    "\n",
    "# Compute filter function\n",
    "frequencies, filter_func = compute_filter_function(pulse, times)\n",
    "\n",
    "# Visualize\n",
    "fig = visualize_filter_function(frequencies, filter_func, pulse, times)\n",
    "plt.show()\n",
    "\n",
    "print(f\"Peak filter function: {np.max(filter_func):.4f}\")\n",
    "print(f\"Dominant frequency: {frequencies[np.argmax(filter_func)]:.4f} GHz\")"
   ]
  },
  {
   "cell_type": "markdown",
   "metadata": {},
   "source": [
    "## 2. Randomized Benchmarking\n",
    "\n",
    "Standard protocol for characterizing average gate fidelity."
   ]
  },
  {
   "cell_type": "code",
   "execution_count": null,
   "metadata": {},
   "outputs": [],
   "source": [
    "# Setup RB experiment\n",
    "sequence_lengths = [1, 2, 5, 10, 20, 40, 80]\n",
    "n_sequences = 20\n",
    "\n",
    "rb_exp = RBExperiment(\n",
    "    n_qubits=1,\n",
    "    sequence_lengths=sequence_lengths,\n",
    "    n_sequences_per_length=n_sequences\n",
    ")\n",
    "\n",
    "# Generate and run sequences\n",
    "print(\"Running randomized benchmarking...\")\n",
    "results = rb_exp.run_experiment()\n",
    "\n",
    "# Fit decay\n",
    "p_fit, F_avg = rb_exp.fit_decay(results)\n",
    "\n",
    "# Plot\n",
    "fig = rb_exp.plot_results(results, p_fit, F_avg)\n",
    "plt.show()\n",
    "\n",
    "print(f\"\\nRB Results:\")\n",
    "print(f\"  Decay parameter p: {p_fit:.6f}\")\n",
    "print(f\"  Average gate fidelity: {F_avg:.6f}\")\n",
    "print(f\"  Error per gate: {1-F_avg:.6f}\")"
   ]
  },
  {
   "cell_type": "markdown",
   "metadata": {},
   "source": [
    "## 3. Sensitivity Analysis"
   ]
  },
  {
   "cell_type": "code",
   "execution_count": null,
   "metadata": {},
   "outputs": [],
   "source": [
    "# Analyze sensitivity to system parameters\n",
    "params = {'amplitude': 1.0, 'detuning': 0.0, 'duration': 10.0}\n",
    "param_variations = {'amplitude': 0.1, 'detuning': 0.05}\n",
    "\n",
    "sensitivities = sensitivity_analysis(pulse, times, params, param_variations)\n",
    "\n",
    "print(\"\\nParameter Sensitivities:\")\n",
    "for param, sens in sensitivities.items():\n",
    "    print(f\"  {param}: {sens:.6f}\")"
   ]
  },
  {
   "cell_type": "markdown",
   "metadata": {},
   "source": [
    "## Summary\n",
    "\n",
    "- **Filter functions** identify noise-sensitive frequencies\n",
    "- **RB** provides model-independent fidelity estimates\n",
    "- **Sensitivity analysis** guides robustness optimization"
   ]
  }
 ],
 "metadata": {
  "kernelspec": {
   "display_name": "Python 3",
   "language": "python",
   "name": "python3"
  },
  "language_info": {
   "name": "python",
   "version": "3.10.0"
  }
 },
 "nbformat": 4,
 "nbformat_minor": 4
}
