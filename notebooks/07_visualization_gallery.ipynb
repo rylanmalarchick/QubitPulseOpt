{
 "cells": [
  {
   "cell_type": "markdown",
   "metadata": {},
   "source": [
    "# Visualization Gallery\n",
    "\n",
    "Comprehensive showcase of visualization capabilities:\n",
    "- Real-time dashboards\n",
    "- Bloch sphere animations\n",
    "- Parameter heatmaps\n",
    "- Report generation"
   ]
  },
  {
   "cell_type": "code",
   "execution_count": null,
   "metadata": {},
   "outputs": [],
   "source": [
    "import sys\n",
    "sys.path.insert(0, '..')\n",
    "import numpy as np\n",
    "import matplotlib.pyplot as plt\n",
    "import qutip as qt\n",
    "\n",
    "from src.visualization.dashboard import (\n",
    "    OptimizationDashboard,\n",
    "    ParameterSweepViewer,\n",
    "    PulseComparisonViewer,\n",
    "    BlochViewer3D\n",
    ")\n",
    "from src.visualization.bloch_animation import (\n",
    "    BlochAnimator,\n",
    "    create_bloch_animation\n",
    ")\n",
    "from src.visualization.reports import (\n",
    "    PulseReport,\n",
    "    OptimizationReport,\n",
    "    create_publication_figure\n",
    ")\n",
    "\n",
    "%matplotlib inline\n",
    "plt.rcParams['figure.figsize'] = (12, 8)"
   ]
  },
  {
   "cell_type": "markdown",
   "metadata": {},
   "source": [
    "## 1. Optimization Dashboard"
   ]
  },
  {
   "cell_type": "code",
   "execution_count": null,
   "metadata": {},
   "outputs": [],
   "source": [
    "# Create dashboard\n",
    "dashboard = OptimizationDashboard(n_controls=2, interactive=False)\n",
    "\n",
    "# Simulate optimization\n",
    "for i in range(50):\n",
    "    fidelity = 1.0 - 0.5 * np.exp(-i/10)\n",
    "    gradient = 0.5 * np.exp(-i/8)\n",
    "    controls = np.random.randn(2, 100)\n",
    "    \n",
    "    dashboard.update(\n",
    "        iteration=i,\n",
    "        fidelity=fidelity,\n",
    "        gradient_norm=gradient,\n",
    "        controls=controls\n",
    "    )\n",
    "\n",
    "dashboard.save('dashboard_demo.png')\n",
    "plt.show()\n",
    "dashboard.close()"
   ]
  },
  {
   "cell_type": "markdown",
   "metadata": {},
   "source": [
    "## 2. Parameter Sweeps"
   ]
  },
  {
   "cell_type": "code",
   "execution_count": null,
   "metadata": {},
   "outputs": [],
   "source": [
    "viewer = ParameterSweepViewer()\n",
    "\n",
    "# Create parameter landscape\n",
    "x = np.linspace(0, 2, 50)\n",
    "y = np.linspace(0, 2, 50)\n",
    "X, Y = np.meshgrid(x, y)\n",
    "Z = np.exp(-((X-1)**2 + (Y-1)**2)/0.5)\n",
    "\n",
    "fig, axes = viewer.plot_heatmap(\n",
    "    x, y, Z,\n",
    "    x_label='Amplitude',\n",
    "    y_label='Duration',\n",
    "    z_label='Fidelity'\n",
    ")\n",
    "plt.show()"
   ]
  },
  {
   "cell_type": "markdown",
   "metadata": {},
   "source": [
    "## 3. Bloch Sphere Visualization"
   ]
  },
  {
   "cell_type": "code",
   "execution_count": null,
   "metadata": {},
   "outputs": [],
   "source": [
    "viewer = BlochViewer3D()\n",
    "\n",
    "# Plot common states\n",
    "states = [\n",
    "    qt.basis(2, 0),\n",
    "    qt.basis(2, 1),\n",
    "    (qt.basis(2, 0) + qt.basis(2, 1)).unit()\n",
    "]\n",
    "labels = ['|0⟩', '|1⟩', '|+⟩']\n",
    "\n",
    "fig, ax = viewer.plot_states(states, labels=labels)\n",
    "plt.show()"
   ]
  },
  {
   "cell_type": "markdown",
   "metadata": {},
   "source": [
    "## 4. Bloch Animations"
   ]
  },
  {
   "cell_type": "code",
   "execution_count": null,
   "metadata": {},
   "outputs": [],
   "source": [
    "# Create Rabi oscillation\n",
    "times = np.linspace(0, 2*np.pi, 50)\n",
    "states = [qt.Qobj([[np.cos(t/2)], [np.sin(t/2)*1j]]) for t in times]\n",
    "\n",
    "animator = create_bloch_animation(\n",
    "    states,\n",
    "    filename='rabi.gif',\n",
    "    fps=10\n",
    ")\n",
    "print(\"Animation created: rabi.gif\")"
   ]
  },
  {
   "cell_type": "markdown",
   "metadata": {},
   "source": [
    "## 5. Pulse Reports"
   ]
  },
  {
   "cell_type": "code",
   "execution_count": null,
   "metadata": {},
   "outputs": [],
   "source": [
    "# Create pulse report\n",
    "pulse = np.sin(np.linspace(0, 4*np.pi, 200))\n",
    "times = np.linspace(0, 10, 200)\n",
    "\n",
    "report = PulseReport(\n",
    "    pulse,\n",
    "    times=times,\n",
    "    fidelity=0.995,\n",
    "    target_gate='X',\n",
    "    optimization_method='GRAPE'\n",
    ")\n",
    "\n",
    "fig = report.generate_full_report()\n",
    "plt.show()\n",
    "\n",
    "# Export metrics\n",
    "report.export_metrics_table('metrics.tex', format='latex')\n",
    "print(\"Report and metrics exported\")"
   ]
  },
  {
   "cell_type": "markdown",
   "metadata": {},
   "source": [
    "## Summary\n",
    "\n",
    "The visualization package provides:\n",
    "- **Real-time monitoring** for optimization\n",
    "- **Interactive exploration** of parameter spaces\n",
    "- **State-of-the-art** Bloch sphere animations\n",
    "- **Publication-ready** figures and reports"
   ]
  }
 ],
 "metadata": {
  "kernelspec": {
   "display_name": "Python 3",
   "language": "python",
   "name": "python3"
  },
  "language_info": {
   "name": "python",
   "version": "3.10.0"
  }
 },
 "nbformat": 4,
 "nbformat_minor": 4
}
