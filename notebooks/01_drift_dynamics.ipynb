{
 "cells": [
  {
   "cell_type": "markdown",
   "metadata": {},
   "source": [
    "# Drift Dynamics: Free Precession on the Bloch Sphere\n",
    "\n",
    "**Week 1.2 Milestone: Baseline Drift Hamiltonian**  \n",
    "**Author:** Orchestrator Agent  \n",
    "**Date:** 2025-01-27  \n",
    "**SOW Reference:** Lines 150-161\n",
    "\n",
    "---\n",
    "\n",
    "## Overview\n",
    "\n",
    "This notebook explores the drift Hamiltonian $H_0 = (\\omega_0/2)\\sigma_z$, which governs the free precession of a single qubit. We'll visualize the evolution on the Bloch sphere and validate key physics properties.\n",
    "\n",
    "### Connection to AirHound Project\n",
    "\n",
    "Just as the AirHound drone had **drift dynamics** (yaw rotation without control input due to IMU bias), the qubit has **free precession** $H_0$. This represents the \"baseline\" motion before we apply control pulses. Understanding drift is essential before adding control—like knowing how your drone drifts before applying corrective torques."
   ]
  },
  {
   "cell_type": "markdown",
   "metadata": {},
   "source": [
    "## Setup: Imports and Configuration"
   ]
  },
  {
   "cell_type": "code",
   "execution_count": null,
   "metadata": {},
   "outputs": [],
   "source": [
    "import numpy as np\n",
    "import matplotlib.pyplot as plt\n",
    "from mpl_toolkits.mplot3d import Axes3D\n",
    "import qutip\n",
    "import sys\n",
    "from pathlib import Path\n",
    "\n",
    "# Add src to path\n",
    "sys.path.insert(0, str(Path.cwd().parent))\n",
    "\n",
    "from src.hamiltonian import (\n",
    "    DriftHamiltonian,\n",
    "    TimeEvolution,\n",
    "    bloch_coordinates,\n",
    "    bloch_trajectory\n",
    ")\n",
    "\n",
    "# Plot settings\n",
    "plt.rcParams['figure.figsize'] = (12, 8)\n",
    "plt.rcParams['font.size'] = 11\n",
    "%matplotlib inline\n",
    "\n",
    "print(\"✓ Imports successful\")\n",
    "print(f\"QuTiP version: {qutip.__version__}\")"
   ]
  },
  {
   "cell_type": "markdown",
   "metadata": {},
   "source": [
    "## 1. Creating the Drift Hamiltonian\n",
    "\n",
    "The drift Hamiltonian for a qubit is:\n",
    "\n",
    "$$H_0 = \\frac{\\omega_0}{2} \\sigma_z$$\n",
    "\n",
    "where:\n",
    "- $\\omega_0$: Qubit transition frequency (MHz)\n",
    "- $\\sigma_z$: Pauli Z operator\n",
    "\n",
    "For typical superconducting qubits, $\\omega_0 \\approx 3-8$ GHz (3000-8000 MHz). We'll use 5 MHz for simplicity."
   ]
  },
  {
   "cell_type": "code",
   "execution_count": null,
   "metadata": {},
   "outputs": [],
   "source": [
    "# Create drift Hamiltonian\n",
    "omega_0 = 5.0  # MHz\n",
    "drift = DriftHamiltonian(omega_0=omega_0)\n",
    "\n",
    "# Display properties\n",
    "print(drift)\n",
    "print(\"\\nHamiltonian matrix:\")\n",
    "print(drift.to_qobj())"
   ]
  },
  {
   "cell_type": "markdown",
   "metadata": {},
   "source": [
    "### Energy Spectrum\n",
    "\n",
    "The energy eigenstates are $|0\\rangle$ (ground) and $|1\\rangle$ (excited) with eigenvalues:\n",
    "\n",
    "$$E_0 = -\\frac{\\omega_0}{2}, \\quad E_1 = +\\frac{\\omega_0}{2}$$\n",
    "\n",
    "Energy splitting: $\\Delta E = E_1 - E_0 = \\omega_0$"
   ]
  },
  {
   "cell_type": "code",
   "execution_count": null,
   "metadata": {},
   "outputs": [],
   "source": [
    "# Verify energy levels\n",
    "E0, E1 = drift.energy_levels()\n",
    "ket_g, ket_e = drift.eigenstates()\n",
    "\n",
    "# Check eigenstates match computational basis\n",
    "ket0 = qutip.basis(2, 0)\n",
    "ket1 = qutip.basis(2, 1)\n",
    "\n",
    "fid_g = qutip.fidelity(ket_g, ket0)\n",
    "fid_e = qutip.fidelity(ket_e, ket1)\n",
    "\n",
    "print(f\"Ground state energy: E₀ = {E0:.3f} MHz\")\n",
    "print(f\"Excited state energy: E₁ = {E1:.3f} MHz\")\n",
    "print(f\"Energy splitting: ΔE = {drift.energy_splitting():.3f} MHz\")\n",
    "print(f\"\\nEigenstate fidelities:\")\n",
    "print(f\"  F(|g⟩, |0⟩) = {fid_g:.6f}\")\n",
    "print(f\"  F(|e⟩, |1⟩) = {fid_e:.6f}\")\n",
    "print(f\"\\n✓ Eigenstates are computational basis states\")"
   ]
  },
  {
   "cell_type": "markdown",
   "metadata": {},
   "source": [
    "## 2. Time Evolution: Free Precession\n",
    "\n",
    "Under $H_0$, a qubit state evolves as:\n",
    "\n",
    "$$|\\psi(t)\\rangle = U(t) |\\psi(0)\\rangle = e^{-iH_0 t} |\\psi(0)\\rangle$$\n",
    "\n",
    "This causes rotation around the z-axis with period $T = 2\\pi/\\omega_0$."
   ]
  },
  {
   "cell_type": "code",
   "execution_count": null,
   "metadata": {},
   "outputs": [],
   "source": [
    "# Time evolution parameters\n",
    "T_period = drift.precession_period()\n",
    "times = np.linspace(0, T_period, 100)\n",
    "\n",
    "print(f\"Precession period: T = {T_period:.4f} μs\")\n",
    "print(f\"Evolution time: 0 to {T_period:.4f} μs ({len(times)} steps)\")"
   ]
  },
  {
   "cell_type": "markdown",
   "metadata": {},
   "source": [
    "### Evolution from $|0\\rangle$ (North Pole)"
   ]
  },
  {
   "cell_type": "code",
   "execution_count": null,
   "metadata": {},
   "outputs": [],
   "source": [
    "# Initial state: |0⟩\n",
    "psi0_ket0 = qutip.basis(2, 0)\n",
    "\n",
    "# Evolve\n",
    "result_ket0 = drift.evolve_state(psi0_ket0, times)\n",
    "\n",
    "# Final fidelity\n",
    "fidelity_final = qutip.fidelity(result_ket0.states[0], result_ket0.states[-1])\n",
    "print(f\"Fidelity after one period: F = {fidelity_final:.10f}\")\n",
    "print(f\"✓ State returns to initial (up to global phase)\")\n",
    "\n",
    "# Bloch trajectory\n",
    "trajectory_ket0 = bloch_trajectory(result_ket0.states)\n",
    "print(f\"\\nBloch trajectory shape: {trajectory_ket0.shape}\")\n",
    "print(f\"Initial point: ({trajectory_ket0[0,0]:.3f}, {trajectory_ket0[0,1]:.3f}, {trajectory_ket0[0,2]:.3f})\")\n",
    "print(f\"Final point:   ({trajectory_ket0[-1,0]:.3f}, {trajectory_ket0[-1,1]:.3f}, {trajectory_ket0[-1,2]:.3f})\")"
   ]
  },
  {
   "cell_type": "markdown",
   "metadata": {},
   "source": [
    "### Evolution from $|+\\rangle$ (Equator)"
   ]
  },
  {
   "cell_type": "code",
   "execution_count": null,
   "metadata": {},
   "outputs": [],
   "source": [
    "# Initial state: |+⟩ = (|0⟩ + |1⟩)/√2\n",
    "psi0_plus = (qutip.basis(2, 0) + qutip.basis(2, 1)).unit()\n",
    "\n",
    "# Evolve\n",
    "result_plus = drift.evolve_state(psi0_plus, times)\n",
    "trajectory_plus = bloch_trajectory(result_plus.states)\n",
    "\n",
    "# Check periodicity\n",
    "fidelity_plus = qutip.fidelity(result_plus.states[0], result_plus.states[-1])\n",
    "print(f\"Fidelity after one period: F = {fidelity_plus:.10f}\")"
   ]
  },
  {
   "cell_type": "markdown",
   "metadata": {},
   "source": [
    "### Evolution from $|i\\rangle$ (Equator, Y-axis)"
   ]
  },
  {
   "cell_type": "code",
   "execution_count": null,
   "metadata": {},
   "outputs": [],
   "source": [
    "# Initial state: |i⟩ = (|0⟩ + i|1⟩)/√2\n",
    "psi0_i = (qutip.basis(2, 0) + 1j * qutip.basis(2, 1)).unit()\n",
    "\n",
    "# Evolve\n",
    "result_i = drift.evolve_state(psi0_i, times)\n",
    "trajectory_i = bloch_trajectory(result_i.states)"
   ]
  },
  {
   "cell_type": "markdown",
   "metadata": {},
   "source": [
    "## 3. Bloch Sphere Visualization\n",
    "\n",
    "Let's visualize the free precession trajectories on the Bloch sphere.\n",
    "\n",
    "**Note:** The Bloch sphere `add_points()` method uses:\n",
    "- `meth`: Plot style ('s'=scatter, 'l'=line, 'm'=multi-line)\n",
    "- Colors passed as a separate list parameter"
   ]
  },
  {
   "cell_type": "code",
   "execution_count": null,
   "metadata": {},
   "outputs": [],
   "source": [
    "# Create Bloch sphere plot\n",
    "fig = plt.figure(figsize=(14, 10))\n",
    "\n",
    "# Subplot 1: All trajectories\n",
    "ax1 = fig.add_subplot(2, 2, 1, projection='3d')\n",
    "b1 = qutip.Bloch(fig=fig, axes=ax1)\n",
    "b1.point_color = ['m', 'g', 'orange']  # Set colors for three trajectories\n",
    "b1.point_marker = ['o', 's', '^']\n",
    "b1.add_points([trajectory_ket0[:,0], trajectory_ket0[:,1], trajectory_ket0[:,2]], meth='l')\n",
    "b1.add_points([trajectory_plus[:,0], trajectory_plus[:,1], trajectory_plus[:,2]], meth='l')\n",
    "b1.add_points([trajectory_i[:,0], trajectory_i[:,1], trajectory_i[:,2]], meth='l')\n",
    "b1.make_sphere()\n",
    "ax1.set_title(\"All Trajectories: |0⟩, |+⟩, |i⟩\", fontsize=12)\n",
    "\n",
    "# Subplot 2: |0⟩ evolution (should stay at north pole)\n",
    "ax2 = fig.add_subplot(2, 2, 2, projection='3d')\n",
    "b2 = qutip.Bloch(fig=fig, axes=ax2)\n",
    "b2.point_color = ['m']\n",
    "b2.add_points([trajectory_ket0[:,0], trajectory_ket0[:,1], trajectory_ket0[:,2]], meth='l')\n",
    "b2.add_states(result_ket0.states[0])\n",
    "b2.make_sphere()\n",
    "ax2.set_title(\"|0⟩ Evolution (Stationary)\", fontsize=12)\n",
    "\n",
    "# Subplot 3: |+⟩ evolution (equatorial rotation)\n",
    "ax3 = fig.add_subplot(2, 2, 3, projection='3d')\n",
    "b3 = qutip.Bloch(fig=fig, axes=ax3)\n",
    "b3.point_color = ['g']\n",
    "b3.add_points([trajectory_plus[:,0], trajectory_plus[:,1], trajectory_plus[:,2]], meth='l')\n",
    "b3.add_states(result_plus.states[0])\n",
    "b3.make_sphere()\n",
    "ax3.set_title(\"|+⟩ Evolution (Equatorial)\", fontsize=12)\n",
    "\n",
    "# Subplot 4: |i⟩ evolution (equatorial rotation, different phase)\n",
    "ax4 = fig.add_subplot(2, 2, 4, projection='3d')\n",
    "b4 = qutip.Bloch(fig=fig, axes=ax4)\n",
    "b4.point_color = ['orange']\n",
    "b4.add_points([trajectory_i[:,0], trajectory_i[:,1], trajectory_i[:,2]], meth='l')\n",
    "b4.add_states(result_i.states[0])\n",
    "b4.make_sphere()\n",
    "ax4.set_title(\"|i⟩ Evolution (Equatorial, 90° phase)\", fontsize=12)\n",
    "\n",
    "plt.tight_layout()\n",
    "plt.savefig('../data/plots/bloch_sphere_drift.png', dpi=300, bbox_inches='tight')\n",
    "print(\"✓ Bloch sphere visualization saved to data/plots/bloch_sphere_drift.png\")\n",
    "plt.show()"
   ]
  },
  {
   "cell_type": "markdown",
   "metadata": {},
   "source": [
    "## 4. Expectation Values: Z-Axis Confinement\n",
    "\n",
    "Since $[H_0, \\sigma_z] = 0$, the z-component of the Bloch vector is conserved. States should not rotate in x or y."
   ]
  },
  {
   "cell_type": "code",
   "execution_count": null,
   "metadata": {},
   "outputs": [],
   "source": [
    "# Compute expectation values for |0⟩ evolution\n",
    "sx = qutip.sigmax()\n",
    "sy = qutip.sigmay()\n",
    "sz = qutip.sigmaz()\n",
    "\n",
    "expect_x_ket0 = [qutip.expect(sx, state) for state in result_ket0.states]\n",
    "expect_y_ket0 = [qutip.expect(sy, state) for state in result_ket0.states]\n",
    "expect_z_ket0 = [qutip.expect(sz, state) for state in result_ket0.states]\n",
    "\n",
    "# Plot\n",
    "fig, axes = plt.subplots(1, 3, figsize=(15, 4))\n",
    "\n",
    "axes[0].plot(times, expect_x_ket0, 'r-', linewidth=2)\n",
    "axes[0].set_xlabel('Time (μs)', fontsize=12)\n",
    "axes[0].set_ylabel('⟨σₓ⟩', fontsize=14)\n",
    "axes[0].set_title('X-Component (Should be 0)', fontsize=12)\n",
    "axes[0].grid(True, alpha=0.3)\n",
    "axes[0].axhline(0, color='k', linestyle='--', alpha=0.5)\n",
    "\n",
    "axes[1].plot(times, expect_y_ket0, 'g-', linewidth=2)\n",
    "axes[1].set_xlabel('Time (μs)', fontsize=12)\n",
    "axes[1].set_ylabel('⟨σᵧ⟩', fontsize=14)\n",
    "axes[1].set_title('Y-Component (Should be 0)', fontsize=12)\n",
    "axes[1].grid(True, alpha=0.3)\n",
    "axes[1].axhline(0, color='k', linestyle='--', alpha=0.5)\n",
    "\n",
    "axes[2].plot(times, expect_z_ket0, 'b-', linewidth=2)\n",
    "axes[2].set_xlabel('Time (μs)', fontsize=12)\n",
    "axes[2].set_ylabel('⟨σz⟩', fontsize=14)\n",
    "axes[2].set_title('Z-Component (Should be +1)', fontsize=12)\n",
    "axes[2].grid(True, alpha=0.3)\n",
    "axes[2].axhline(1, color='k', linestyle='--', alpha=0.5)\n",
    "\n",
    "plt.tight_layout()\n",
    "plt.savefig('../data/plots/expectation_values_drift.png', dpi=300, bbox_inches='tight')\n",
    "print(\"✓ Expectation value plots saved\")\n",
    "plt.show()\n",
    "\n",
    "# Print statistics\n",
    "print(f\"\\nStatistics (|0⟩ evolution):\")\n",
    "print(f\"  ⟨σₓ⟩: max = {np.max(np.abs(expect_x_ket0)):.2e}\")\n",
    "print(f\"  ⟨σᵧ⟩: max = {np.max(np.abs(expect_y_ket0)):.2e}\")\n",
    "print(f\"  ⟨σz⟩: mean = {np.mean(expect_z_ket0):.10f}, std = {np.std(expect_z_ket0):.2e}\")\n",
    "print(f\"\\n✓ Z-axis confinement confirmed\")"
   ]
  },
  {
   "cell_type": "markdown",
   "metadata": {},
   "source": [
    "## 5. Analytical vs. Numerical Evolution\n",
    "\n",
    "Compare our analytical solution with QuTiP's numerical solver to verify correctness."
   ]
  },
  {
   "cell_type": "code",
   "execution_count": null,
   "metadata": {},
   "outputs": [],
   "source": [
    "# Create evolver\n",
    "evolver = TimeEvolution(drift.to_qobj())\n",
    "\n",
    "# Compare methods\n",
    "psi0 = (qutip.basis(2, 0) + qutip.basis(2, 1)).unit()  # |+⟩\n",
    "times_compare = np.linspace(0, 2*T_period, 200)\n",
    "\n",
    "comparison = evolver.compare_methods(psi0, times_compare)\n",
    "\n",
    "# Plot fidelities\n",
    "plt.figure(figsize=(10, 6))\n",
    "plt.plot(times_compare, comparison['fidelities'], 'b-', linewidth=2)\n",
    "plt.xlabel('Time (μs)', fontsize=12)\n",
    "plt.ylabel('Fidelity (Analytical vs Numerical)', fontsize=12)\n",
    "plt.title('Agreement Between Analytical and Numerical Evolution', fontsize=14)\n",
    "plt.grid(True, alpha=0.3)\n",
    "plt.ylim([0.999999, 1.0000001])\n",
    "plt.axhline(1.0, color='r', linestyle='--', alpha=0.5, label='Perfect Agreement')\n",
    "plt.legend()\n",
    "plt.tight_layout()\n",
    "plt.savefig('../data/plots/analytical_vs_numerical.png', dpi=300, bbox_inches='tight')\n",
    "print(f\"✓ Comparison plot saved\")\n",
    "plt.show()\n",
    "\n",
    "print(f\"\\nMethod Comparison:\")\n",
    "print(f\"  Maximum fidelity error: {comparison['max_error']:.2e}\")\n",
    "print(f\"  Minimum fidelity: {comparison['fidelities'].min():.15f}\")\n",
    "print(f\"\\n✓ Analytical and numerical methods agree to machine precision\")"
   ]
  },
  {
   "cell_type": "markdown",
   "metadata": {},
   "source": [
    "## 6. Summary and Key Takeaways\n",
    "\n",
    "### Physics Validated\n",
    "\n",
    "1. **Energy Spectrum:** $E_0 = -\\omega_0/2$, $E_1 = +\\omega_0/2$ with eigenstates $|0\\rangle$, $|1\\rangle$ ✓\n",
    "2. **Periodicity:** States return after period $T = 2\\pi/\\omega_0$ ✓\n",
    "3. **Z-Axis Confinement:** $\\langle\\sigma_x\\rangle = \\langle\\sigma_y\\rangle = 0$ for $|0\\rangle$ ✓\n",
    "4. **Conservation:** $\\langle\\sigma_z\\rangle$ constant in time ✓\n",
    "5. **Numerical Accuracy:** Analytical vs numerical error $< 10^{-10}$ ✓\n",
    "\n",
    "### AirHound Connection\n",
    "\n",
    "| System | Drift Behavior | Next Step |\n",
    "|--------|----------------|------------|\n",
    "| **Drone** | Yaw without control | Add motor torques |\n",
    "| **Qubit** | Free precession $H_0$ | Add control pulses $\\Omega(t)\\sigma_x$ |\n",
    "\n",
    "Just as understanding drift was essential before implementing PID control on AirHound, characterizing $H_0$ is foundational before designing optimal pulses (Week 1.3).\n",
    "\n",
    "### Next Steps: Week 1.3\n",
    "\n",
    "- Add control Hamiltonian: $H_c(t) = \\Omega(t) \\sigma_x$\n",
    "- Implement basic gates: X, Y, Hadamard\n",
    "- Prepare for optimization (GRAPE) in Week 2\n",
    "\n",
    "---\n",
    "\n",
    "**Week 1.2 Complete! 🎉**"
   ]
  }
 ],
 "metadata": {
  "kernelspec": {
   "display_name": "Python (QubitPulseOpt)",
   "language": "python",
   "name": "qubitpulseopt"
  },
  "language_info": {
   "codemirror_mode": {
    "name": "ipython",
    "version": 3
   },
   "file_extension": ".py",
   "mimetype": "text/x-python",
   "name": "python",
   "nbconvert_exporter": "python",
   "pygments_lexer": "ipython3",
   "version": "3.12.3"
  }
 },
 "nbformat": 4,
 "nbformat_minor": 4
}
